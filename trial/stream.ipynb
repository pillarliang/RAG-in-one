{
 "cells": [
  {
   "cell_type": "code",
   "id": "initial_id",
   "metadata": {
    "collapsed": true,
    "ExecuteTime": {
     "end_time": "2024-10-26T08:12:27.897898Z",
     "start_time": "2024-10-26T08:12:26.109389Z"
    }
   },
   "source": [
    "from openai import OpenAI\n",
    "\n",
    "client = OpenAI()\n",
    "\n",
    "response = client.chat.completions.create(\n",
    "    model='gpt-4o-mini',\n",
    "    messages=[\n",
    "        {'role': 'user', 'content': 'Count to 10, with a comma between each number and no newlines. E.g., 1, 2, 3, ...'}\n",
    "    ],\n",
    "    temperature=0,\n",
    "    stream=True  # again, we set stream=True\n",
    ")\n",
    "\n",
    "for chunk in response:\n",
    "    print(chunk.choices[0].delta.content)\n",
    "    print(\"**\")\n"
   ],
   "outputs": [
    {
     "name": "stdout",
     "output_type": "stream",
     "text": [
      "\n",
      "**\n",
      "1\n",
      "**\n",
      ",\n",
      "**\n",
      " \n",
      "**\n",
      "2\n",
      "**\n",
      ",\n",
      "**\n",
      " \n",
      "**\n",
      "3\n",
      "**\n",
      ",\n",
      "**\n",
      " \n",
      "**\n",
      "4\n",
      "**\n",
      ",\n",
      "**\n",
      " \n",
      "**\n",
      "5\n",
      "**\n",
      ",\n",
      "**\n",
      " \n",
      "**\n",
      "6\n",
      "**\n",
      ",\n",
      "**\n",
      " \n",
      "**\n",
      "7\n",
      "**\n",
      ",\n",
      "**\n",
      " \n",
      "**\n",
      "8\n",
      "**\n",
      ",\n",
      "**\n",
      " \n",
      "**\n",
      "9\n",
      "**\n",
      ",\n",
      "**\n",
      " \n",
      "**\n",
      "10\n",
      "**\n",
      "None\n",
      "**\n"
     ]
    }
   ],
   "execution_count": 3
  },
  {
   "metadata": {},
   "cell_type": "code",
   "outputs": [],
   "execution_count": null,
   "source": "",
   "id": "41ca6443f0675aa6"
  }
 ],
 "metadata": {
  "kernelspec": {
   "display_name": "Python 3",
   "language": "python",
   "name": "python3"
  },
  "language_info": {
   "codemirror_mode": {
    "name": "ipython",
    "version": 2
   },
   "file_extension": ".py",
   "mimetype": "text/x-python",
   "name": "python",
   "nbconvert_exporter": "python",
   "pygments_lexer": "ipython2",
   "version": "2.7.6"
  }
 },
 "nbformat": 4,
 "nbformat_minor": 5
}
