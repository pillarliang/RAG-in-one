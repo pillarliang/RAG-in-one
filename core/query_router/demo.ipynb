{
 "cells": [
  {
   "cell_type": "code",
   "execution_count": null,
   "id": "initial_id",
   "metadata": {
    "collapsed": true
   },
   "outputs": [],
   "source": [
    ""
   ]
  },
  {
   "metadata": {
    "ExecuteTime": {
     "end_time": "2024-09-10T06:19:31.008732Z",
     "start_time": "2024-09-10T06:19:30.999300Z"
    }
   },
   "cell_type": "code",
   "source": [
    "from enum import Enum\n",
    "\n",
    "class QueryRouterName(str, Enum):\n",
    "    RDB = \"Relational Database\"\n",
    "    TextVector = \"Text vector database\"\n",
    "\n",
    "print(QueryRouterName.RDB)"
   ],
   "id": "ba41732b17453a97",
   "outputs": [
    {
     "name": "stdout",
     "output_type": "stream",
     "text": [
      "QueryRouterName.RDB\n"
     ]
    }
   ],
   "execution_count": 1
  },
  {
   "metadata": {
    "ExecuteTime": {
     "end_time": "2024-09-10T06:29:13.983242Z",
     "start_time": "2024-09-10T06:29:13.973247Z"
    }
   },
   "cell_type": "code",
   "source": [
    "from enum import Enum\n",
    "\n",
    "class QueryRouterName(Enum):\n",
    "    RDB = \"Relational Database\"\n",
    "    TextVector = \"Text vector database\"\n",
    "\n",
    "# 可以直接使用枚举成员作为字符串\n",
    "x = {\n",
    "    \"aa\": QueryRouterName.RDB\n",
    "}\n",
    "print(x)  # 直接输出: Relational Database"
   ],
   "id": "cf3ef9f91e326772",
   "outputs": [
    {
     "name": "stdout",
     "output_type": "stream",
     "text": [
      "{'aa': <QueryRouterName.RDB: 'Relational Database'>}\n"
     ]
    }
   ],
   "execution_count": 1
  },
  {
   "metadata": {
    "ExecuteTime": {
     "end_time": "2024-09-10T06:33:57.107003Z",
     "start_time": "2024-09-10T06:33:57.102447Z"
    }
   },
   "cell_type": "code",
   "source": [
    "from enum import Enum\n",
    "\n",
    "class QueryRouterName(str, Enum):\n",
    "    RDB = \"Relational Database\"\n",
    "    TextVector = \"Text vector database\"\n",
    "    NewMember = \"New Sample Value\"\n",
    "\n",
    "print(QueryRouterName.RDB + \"\")"
   ],
   "id": "876b6b378ebd3091",
   "outputs": [
    {
     "name": "stdout",
     "output_type": "stream",
     "text": [
      "Relational Database\n"
     ]
    }
   ],
   "execution_count": 4
  },
  {
   "metadata": {},
   "cell_type": "code",
   "outputs": [],
   "execution_count": null,
   "source": "",
   "id": "aaab288fe64ff08a"
  }
 ],
 "metadata": {
  "kernelspec": {
   "display_name": "Python 3",
   "language": "python",
   "name": "python3"
  },
  "language_info": {
   "codemirror_mode": {
    "name": "ipython",
    "version": 2
   },
   "file_extension": ".py",
   "mimetype": "text/x-python",
   "name": "python",
   "nbconvert_exporter": "python",
   "pygments_lexer": "ipython2",
   "version": "2.7.6"
  }
 },
 "nbformat": 4,
 "nbformat_minor": 5
}
