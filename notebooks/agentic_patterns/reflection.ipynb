{
 "cells": [
  {
   "cell_type": "code",
   "id": "initial_id",
   "metadata": {
    "collapsed": true
   },
   "source": [
    "from core.agentic_patterns.reflection import ReflectionAgent\n",
    "\n",
    "generation_system_prompt = \"\"\"\n",
    "You are a Python programmer tasked with generating high quality Python code.\n",
    "Your task is to Generate the best content possible for the user's request. If the user provides critique,\n",
    "respond with a revised version of your previous attempt.\"\"\"\n",
    "\n",
    "reflection_system_prompt = \"\"\"\n",
    "You are Andrej Karpathy, an experienced computer scientist. You are tasked with generating critique and recommendations\n",
    "for the user's code.\"\"\"\n",
    "\n",
    "user_prompt = \"\"\"\n",
    "Generate a Python implementation of the Merge Sort algorithm\"\"\"\n",
    "agent = ReflectionAgent()\n",
    "\n",
    "final_response = agent.run(\n",
    "    generation_system_prompt=generation_system_prompt,\n",
    "    reflection_system_prompt=reflection_system_prompt,\n",
    "    user_prompt=user_prompt,\n",
    "    n_steps=3,\n",
    ")"
   ],
   "outputs": [],
   "execution_count": null
  },
  {
   "metadata": {},
   "cell_type": "code",
   "source": "",
   "id": "76fd301e06c147b6",
   "outputs": [],
   "execution_count": null
  }
 ],
 "metadata": {
  "kernelspec": {
   "display_name": "Python 3",
   "language": "python",
   "name": "python3"
  },
  "language_info": {
   "codemirror_mode": {
    "name": "ipython",
    "version": 2
   },
   "file_extension": ".py",
   "mimetype": "text/x-python",
   "name": "python",
   "nbconvert_exporter": "python",
   "pygments_lexer": "ipython2",
   "version": "2.7.6"
  }
 },
 "nbformat": 4,
 "nbformat_minor": 5
}
