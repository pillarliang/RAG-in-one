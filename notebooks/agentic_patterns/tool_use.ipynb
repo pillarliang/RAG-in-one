{
 "cells": [
  {
   "metadata": {
    "collapsed": true,
    "ExecuteTime": {
     "end_time": "2024-10-14T08:50:13.494008Z",
     "start_time": "2024-10-14T08:50:12.096589Z"
    }
   },
   "cell_type": "code",
   "source": [
    "from datetime import datetime\n",
    "from core.agentic_patterns.tool_use import ToolAgent, tool_use\n",
    "\n",
    "\n",
    "@tool_use\n",
    "def calculate_sqrt(x: float) -> float:\n",
    "    return x**0.5\n",
    "\n",
    "@tool_use\n",
    "def get_current_time(location: str) -> datetime:\n",
    "    \"\"\"\n",
    "    Get the current time.\n",
    "    \"\"\"\n",
    "    from datetime import datetime\n",
    "    return datetime.now()\n",
    "\n",
    "\n",
    "print(ToolAgent.TOOLS.calculate_sqrt)\n",
    "tool_agent = ToolAgent(tools=[ToolAgent.TOOLS.calculate_sqrt, ToolAgent.TOOLS.get_current_time])\n",
    "\n",
    "response = tool_agent.run(\"计算4的平方根\")\n",
    "print(response)"
   ],
   "id": "initial_id",
   "outputs": [
    {
     "name": "stdout",
     "output_type": "stream",
     "text": [
      "{\"type\": \"function\", \"function\": {\"name\": \"calculate_sqrt\", \"description\": null, \"parameters\": {\"properties\": {\"x\": {\"type\": \"float\"}}, \"type\": \"object\"}}}\n",
      "4的平方根是2。\n"
     ]
    }
   ],
   "execution_count": 3
  },
  {
   "metadata": {},
   "cell_type": "code",
   "outputs": [],
   "execution_count": null,
   "source": "",
   "id": "2356ff50ed4e9754"
  }
 ],
 "metadata": {
  "kernelspec": {
   "display_name": "Python 3",
   "language": "python",
   "name": "python3"
  },
  "language_info": {
   "codemirror_mode": {
    "name": "ipython",
    "version": 2
   },
   "file_extension": ".py",
   "mimetype": "text/x-python",
   "name": "python",
   "nbconvert_exporter": "python",
   "pygments_lexer": "ipython2",
   "version": "2.7.6"
  }
 },
 "nbformat": 4,
 "nbformat_minor": 5
}
