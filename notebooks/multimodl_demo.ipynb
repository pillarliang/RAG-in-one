{
 "cells": [
  {
   "cell_type": "code",
   "id": "c2c0f5ca4ca22fdc",
   "metadata": {
    "collapsed": true,
    "jupyter": {
     "is_executing": true
    },
    "ExecuteTime": {
     "start_time": "2024-09-13T09:05:11.037479Z"
    }
   },
   "source": [
    "from model.llm import LLM\n",
    "from core.vector_database.jina_clip_wrapper import JinaClipWrapper\n",
    "from utility.tools import load_images_from_folder\n",
    "\n",
    "texts = ['A pig', 'A red cat', \"A red pig\", \"This is a flowchat\"]\n",
    "images = load_images_from_folder('../model/image_dataset')\n",
    "query = \"在 RAG 中recall 回 contexts 下一步应该做啥？\"\n",
    "\n",
    "jina_clip_wrapper = JinaClipWrapper(texts, images)\n",
    "contexts = jina_clip_wrapper.search_for_multimodal(query)\n",
    "print(contexts)\n",
    "llm = LLM()\n",
    "res = llm.get_multimodal_response(query, contexts)\n",
    "print(res)"
   ],
   "outputs": [],
   "execution_count": null
  },
  {
   "metadata": {},
   "cell_type": "code",
   "source": "",
   "id": "e116fcae18ff7aaf",
   "outputs": [],
   "execution_count": null
  },
  {
   "metadata": {},
   "cell_type": "code",
   "outputs": [],
   "execution_count": null,
   "source": [
    "from model.llm import LLM\n",
    "from core.vector_database.jina_clip_wrapper import JinaClipWrapper\n",
    "from utility.tools import load_images_from_folder\n",
    "\n",
    "texts = ['A pig', 'A red cat', \"A red pig\", \"This is a flowchat\"]\n",
    "images = load_images_from_folder('../model/image_dataset')\n",
    "query = \"在 RAG 中recall 回 contexts 下一步应该做啥？\"\n",
    "\n",
    "jina_clip_wrapper = JinaClipWrapper(texts, images)\n",
    "contexts = jina_clip_wrapper.search_for_multimodal(query)\n",
    "print(contexts)\n",
    "llm = LLM()\n",
    "res = llm.get_multimodal_response(query, contexts)\n",
    "print(res)"
   ],
   "id": "2013236315cb0a24"
  },
  {
   "metadata": {},
   "cell_type": "code",
   "outputs": [],
   "execution_count": null,
   "source": [
    "from model.llm import LLM\n",
    "from core.vector_database.jina_clip_wrapper import JinaClipWrapper\n",
    "from utility.tools import load_images_from_folder\n",
    "\n",
    "texts = ['A pig', 'A red cat', \"A red pig\", \"This is a flowchat\"]\n",
    "images = load_images_from_folder('../model/image_dataset')\n",
    "query = \"在 RAG 中recall 回 contexts 下一步应该做啥？\"\n",
    "\n",
    "jina_clip_wrapper = JinaClipWrapper(texts, images)\n",
    "contexts = jina_clip_wrapper.search_for_multimodal(query)\n",
    "print(contexts)\n",
    "llm = LLM()\n",
    "res = llm.get_multimodal_response(query, contexts)\n",
    "print(res)"
   ],
   "id": "ef3c94eeb4ae04bc"
  },
  {
   "metadata": {},
   "cell_type": "code",
   "outputs": [],
   "execution_count": null,
   "source": [
    "from model.llm import LLM\n",
    "from core.vector_database.jina_clip_wrapper import JinaClipWrapper\n",
    "from utility.tools import load_images_from_folder\n",
    "\n",
    "texts = ['A pig', 'A red cat', \"A red pig\", \"This is a flowchat\"]\n",
    "images = load_images_from_folder('../model/image_dataset')\n",
    "query = \"在 RAG 中recall 回 contexts 下一步应该做啥？\"\n",
    "\n",
    "jina_clip_wrapper = JinaClipWrapper(texts, images)\n",
    "contexts = jina_clip_wrapper.search_for_multimodal(query)\n",
    "print(contexts)\n",
    "llm = LLM()\n",
    "res = llm.get_multimodal_response(query, contexts)\n",
    "print(res)"
   ],
   "id": "f9785ca6e70fa97e"
  },
  {
   "metadata": {},
   "cell_type": "code",
   "outputs": [],
   "execution_count": null,
   "source": [
    "from model.llm import LLM\n",
    "from core.vector_database.jina_clip_wrapper import JinaClipWrapper\n",
    "from utility.tools import load_images_from_folder\n",
    "\n",
    "texts = ['A pig', 'A red cat', \"A red pig\", \"This is a flowchat\"]\n",
    "images = load_images_from_folder('../model/image_dataset')\n",
    "query = \"在 RAG 中recall 回 contexts 下一步应该做啥？\"\n",
    "\n",
    "jina_clip_wrapper = JinaClipWrapper(texts, images)\n",
    "contexts = jina_clip_wrapper.search_for_multimodal(query)\n",
    "print(contexts)\n",
    "llm = LLM()\n",
    "res = llm.get_multimodal_response(query, contexts)\n",
    "print(res)"
   ],
   "id": "a8007f83430f183a"
  },
  {
   "metadata": {},
   "cell_type": "code",
   "outputs": [],
   "execution_count": null,
   "source": [
    "from model.llm import LLM\n",
    "from core.vector_database.jina_clip_wrapper import JinaClipWrapper\n",
    "from utility.tools import load_images_from_folder\n",
    "\n",
    "texts = ['A pig', 'A red cat', \"A red pig\", \"This is a flowchat\"]\n",
    "images = load_images_from_folder('../model/image_dataset')\n",
    "query = \"在 RAG 中recall 回 contexts 下一步应该做啥？\"\n",
    "\n",
    "jina_clip_wrapper = JinaClipWrapper(texts, images)\n",
    "contexts = jina_clip_wrapper.search_for_multimodal(query)\n",
    "print(contexts)\n",
    "llm = LLM()\n",
    "res = llm.get_multimodal_response(query, contexts)\n",
    "print(res)"
   ],
   "id": "a3e3ace3cc5d8a2e"
  },
  {
   "metadata": {},
   "cell_type": "code",
   "outputs": [
    {
     "ename": "KeyboardInterrupt",
     "evalue": "",
     "output_type": "error",
     "traceback": [
      "\u001B[0;31m---------------------------------------------------------------------------\u001B[0m",
      "\u001B[0;31mKeyboardInterrupt\u001B[0m                         Traceback (most recent call last)",
      "Cell \u001B[0;32mIn[4], line 1\u001B[0m\n\u001B[0;32m----> 1\u001B[0m \u001B[38;5;28;01mfrom\u001B[39;00m \u001B[38;5;21;01mmodel\u001B[39;00m\u001B[38;5;21;01m.\u001B[39;00m\u001B[38;5;21;01mllm\u001B[39;00m \u001B[38;5;28;01mimport\u001B[39;00m DMetaLLM\n\u001B[1;32m      2\u001B[0m \u001B[38;5;28;01mfrom\u001B[39;00m \u001B[38;5;21;01mcore\u001B[39;00m\u001B[38;5;21;01m.\u001B[39;00m\u001B[38;5;21;01mvector_database\u001B[39;00m\u001B[38;5;21;01m.\u001B[39;00m\u001B[38;5;21;01mjina_clip_wrapper\u001B[39;00m \u001B[38;5;28;01mimport\u001B[39;00m JinaClipWrapper\n\u001B[1;32m      3\u001B[0m \u001B[38;5;28;01mfrom\u001B[39;00m \u001B[38;5;21;01mutility\u001B[39;00m\u001B[38;5;21;01m.\u001B[39;00m\u001B[38;5;21;01mtools\u001B[39;00m \u001B[38;5;28;01mimport\u001B[39;00m load_images_from_folder\n",
      "File \u001B[0;32m_pydevd_bundle/pydevd_cython_darwin_311_64.pyx:1187\u001B[0m, in \u001B[0;36m_pydevd_bundle.pydevd_cython_darwin_311_64.SafeCallWrapper.__call__\u001B[0;34m()\u001B[0m\n",
      "File \u001B[0;32m_pydevd_bundle/pydevd_cython_darwin_311_64.pyx:627\u001B[0m, in \u001B[0;36m_pydevd_bundle.pydevd_cython_darwin_311_64.PyDBFrame.trace_dispatch\u001B[0;34m()\u001B[0m\n",
      "File \u001B[0;32m_pydevd_bundle/pydevd_cython_darwin_311_64.pyx:1103\u001B[0m, in \u001B[0;36m_pydevd_bundle.pydevd_cython_darwin_311_64.PyDBFrame.trace_dispatch\u001B[0;34m()\u001B[0m\n",
      "File \u001B[0;32m_pydevd_bundle/pydevd_cython_darwin_311_64.pyx:1061\u001B[0m, in \u001B[0;36m_pydevd_bundle.pydevd_cython_darwin_311_64.PyDBFrame.trace_dispatch\u001B[0;34m()\u001B[0m\n",
      "File \u001B[0;32m/Applications/PyCharm.app/Contents/plugins/python/helpers-pro/jupyter_debug/pydev_jupyter_plugin.py:169\u001B[0m, in \u001B[0;36mstop\u001B[0;34m(plugin, pydb, frame, event, args, stop_info, arg, step_cmd)\u001B[0m\n\u001B[1;32m    167\u001B[0m     frame \u001B[38;5;241m=\u001B[39m suspend_jupyter(main_debugger, thread, frame, step_cmd)\n\u001B[1;32m    168\u001B[0m     \u001B[38;5;28;01mif\u001B[39;00m frame:\n\u001B[0;32m--> 169\u001B[0m         main_debugger\u001B[38;5;241m.\u001B[39mdo_wait_suspend(thread, frame, event, arg)\n\u001B[1;32m    170\u001B[0m         \u001B[38;5;28;01mreturn\u001B[39;00m \u001B[38;5;28;01mTrue\u001B[39;00m\n\u001B[1;32m    171\u001B[0m \u001B[38;5;28;01mreturn\u001B[39;00m \u001B[38;5;28;01mFalse\u001B[39;00m\n",
      "File \u001B[0;32m/Applications/PyCharm.app/Contents/plugins/python/helpers/pydev/pydevd.py:1201\u001B[0m, in \u001B[0;36mPyDB.do_wait_suspend\u001B[0;34m(self, thread, frame, event, arg, send_suspend_message, is_unhandled_exception)\u001B[0m\n\u001B[1;32m   1198\u001B[0m         from_this_thread\u001B[38;5;241m.\u001B[39mappend(frame_id)\n\u001B[1;32m   1200\u001B[0m \u001B[38;5;28;01mwith\u001B[39;00m \u001B[38;5;28mself\u001B[39m\u001B[38;5;241m.\u001B[39m_threads_suspended_single_notification\u001B[38;5;241m.\u001B[39mnotify_thread_suspended(thread_id, stop_reason):\n\u001B[0;32m-> 1201\u001B[0m     \u001B[38;5;28mself\u001B[39m\u001B[38;5;241m.\u001B[39m_do_wait_suspend(thread, frame, event, arg, suspend_type, from_this_thread)\n",
      "File \u001B[0;32m/Applications/PyCharm.app/Contents/plugins/python/helpers/pydev/pydevd.py:1216\u001B[0m, in \u001B[0;36mPyDB._do_wait_suspend\u001B[0;34m(self, thread, frame, event, arg, suspend_type, from_this_thread)\u001B[0m\n\u001B[1;32m   1213\u001B[0m             \u001B[38;5;28mself\u001B[39m\u001B[38;5;241m.\u001B[39m_call_mpl_hook()\n\u001B[1;32m   1215\u001B[0m         \u001B[38;5;28mself\u001B[39m\u001B[38;5;241m.\u001B[39mprocess_internal_commands()\n\u001B[0;32m-> 1216\u001B[0m         time\u001B[38;5;241m.\u001B[39msleep(\u001B[38;5;241m0.01\u001B[39m)\n\u001B[1;32m   1218\u001B[0m \u001B[38;5;28mself\u001B[39m\u001B[38;5;241m.\u001B[39mcancel_async_evaluation(get_current_thread_id(thread), \u001B[38;5;28mstr\u001B[39m(\u001B[38;5;28mid\u001B[39m(frame)))\n\u001B[1;32m   1220\u001B[0m \u001B[38;5;66;03m# process any stepping instructions\u001B[39;00m\n",
      "\u001B[0;31mKeyboardInterrupt\u001B[0m: "
     ]
    }
   ],
   "execution_count": 4,
   "source": [
    "from model.llm import LLM\n",
    "from core.vector_database.jina_clip_wrapper import JinaClipWrapper\n",
    "from utility.tools import load_images_from_folder\n",
    "\n",
    "texts = ['A pig', 'A red cat', \"A red pig\", \"This is a flowchat\"]\n",
    "images = load_images_from_folder('../model/image_dataset')\n",
    "query = \"在 RAG 中recall 回 contexts 下一步应该做啥？\"\n",
    "\n",
    "jina_clip_wrapper = JinaClipWrapper(texts, images)\n",
    "contexts = jina_clip_wrapper.search_for_multimodal(query)\n",
    "print(contexts)\n",
    "llm = LLM()\n",
    "res = llm.get_multimodal_response(query, contexts)\n",
    "print(res)"
   ],
   "id": "initial_id"
  }
 ],
 "metadata": {
  "kernelspec": {
   "display_name": "Python 3",
   "language": "python",
   "name": "python3"
  },
  "language_info": {
   "codemirror_mode": {
    "name": "ipython",
    "version": 2
   },
   "file_extension": ".py",
   "mimetype": "text/x-python",
   "name": "python",
   "nbconvert_exporter": "python",
   "pygments_lexer": "ipython2",
   "version": "2.7.6"
  }
 },
 "nbformat": 4,
 "nbformat_minor": 5
}
