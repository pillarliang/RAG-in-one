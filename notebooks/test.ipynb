{
 "cells": [
  {
   "cell_type": "code",
   "id": "initial_id",
   "metadata": {
    "collapsed": true,
    "ExecuteTime": {
     "end_time": "2024-10-30T05:41:47.764331Z",
     "start_time": "2024-10-30T05:41:47.760920Z"
    }
   },
   "source": [
    "def generate_task_info(task_id, task_analysis_info):\n",
    "    return f'{{\"task_id\": \"{task_id}\", \"insight\": \"{task_analysis_info}\"}}'"
   ],
   "outputs": [],
   "execution_count": 5
  },
  {
   "metadata": {
    "ExecuteTime": {
     "end_time": "2024-10-30T05:41:49.879088Z",
     "start_time": "2024-10-30T05:41:49.874584Z"
    }
   },
   "cell_type": "code",
   "source": "generate_task_info('task_id', 'task_analysis_info')",
   "id": "e6b40b6325f706ea",
   "outputs": [
    {
     "data": {
      "text/plain": [
       "'{\"task_id\": \"task_id\", \"insight\": \"task_analysis_info\"}'"
      ]
     },
     "execution_count": 6,
     "metadata": {},
     "output_type": "execute_result"
    }
   ],
   "execution_count": 6
  },
  {
   "metadata": {
    "ExecuteTime": {
     "end_time": "2024-10-30T05:42:11.236154Z",
     "start_time": "2024-10-30T05:42:11.230782Z"
    }
   },
   "cell_type": "code",
   "source": "\"\"\"{task_id}\"\"\"",
   "id": "74dbee02ac713e34",
   "outputs": [
    {
     "data": {
      "text/plain": [
       "'{task_id}'"
      ]
     },
     "execution_count": 7,
     "metadata": {},
     "output_type": "execute_result"
    }
   ],
   "execution_count": 7
  },
  {
   "metadata": {
    "ExecuteTime": {
     "end_time": "2024-10-30T05:42:58.077020Z",
     "start_time": "2024-10-30T05:42:58.072830Z"
    }
   },
   "cell_type": "code",
   "source": [
    "\n",
    "task_id = 1\n",
    "f\"\"\"{task_id}\"\"\""
   ],
   "id": "b289247a8d0b8d73",
   "outputs": [
    {
     "data": {
      "text/plain": [
       "'1'"
      ]
     },
     "execution_count": 10,
     "metadata": {},
     "output_type": "execute_result"
    }
   ],
   "execution_count": 10
  },
  {
   "metadata": {
    "ExecuteTime": {
     "end_time": "2024-10-30T11:30:15.768001Z",
     "start_time": "2024-10-30T11:30:15.764911Z"
    }
   },
   "cell_type": "code",
   "source": [
    "test = \"\"\"{\n",
    "    \"task_id\": 1,\n",
    "    \"insight\": \"task_analysis_info\"\n",
    "}\"\"\"\n",
    "aaa = \"\"\"\n",
    "{content}\n",
    "\"\"\"\n",
    "aa = aaa.format(content=test)"
   ],
   "id": "a7d87ab32221ebc7",
   "outputs": [],
   "execution_count": 15
  },
  {
   "metadata": {
    "ExecuteTime": {
     "end_time": "2024-10-30T11:30:17.516525Z",
     "start_time": "2024-10-30T11:30:17.512348Z"
    }
   },
   "cell_type": "code",
   "source": "aa",
   "id": "cefe3842a533417",
   "outputs": [
    {
     "data": {
      "text/plain": [
       "'\\n{\\n    \"task_id\": 1,\\n    \"insight\": \"task_analysis_info\"\\n}\\n'"
      ]
     },
     "execution_count": 16,
     "metadata": {},
     "output_type": "execute_result"
    }
   ],
   "execution_count": 16
  },
  {
   "metadata": {},
   "cell_type": "code",
   "outputs": [],
   "execution_count": null,
   "source": "",
   "id": "805e9cdb38d49705"
  }
 ],
 "metadata": {
  "kernelspec": {
   "display_name": "Python 3",
   "language": "python",
   "name": "python3"
  },
  "language_info": {
   "codemirror_mode": {
    "name": "ipython",
    "version": 2
   },
   "file_extension": ".py",
   "mimetype": "text/x-python",
   "name": "python",
   "nbconvert_exporter": "python",
   "pygments_lexer": "ipython2",
   "version": "2.7.6"
  }
 },
 "nbformat": 4,
 "nbformat_minor": 5
}
