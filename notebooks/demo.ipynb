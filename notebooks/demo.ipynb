{
 "cells": [
  {
   "cell_type": "code",
   "id": "initial_id",
   "metadata": {
    "collapsed": true,
    "ExecuteTime": {
     "end_time": "2024-08-22T06:38:15.060252Z",
     "start_time": "2024-08-22T06:37:54.245086Z"
    }
   },
   "source": [
    "from core.vector_database.faiss_wrapper import FaissWrapper\n",
    "from core.retrieval.pre_retrieval import PreRetrievalService\n",
    "from model.llm import LLM\n",
    "from constants.prompts import CN_RAG_PROMPTS\n",
    "from core.retrieval.retrieval import RetrievalService\n",
    "\n",
    "query = \"小明的工作是什么？\"\n",
    "origin_chunks = [\"小明喜欢打蓝球\", \"小明和小红是同事\", \"小红的工作是一名演员\"]\n",
    "\n",
    "\n",
    "retrieval_chunks = set()\n",
    "faiss_wrapper = FaissWrapper(text_chunks=origin_chunks)\n",
    "\n",
    "# Rephrase\n",
    "queries = PreRetrievalService.rephrase_sub_queries(query)\n",
    "for item in queries:\n",
    "    res = RetrievalService.semantic_search(\n",
    "        item, faiss_wrapper, top_k=2\n",
    "    )\n",
    "    retrieval_chunks.update(res)\n",
    "\n",
    "# HYDE\n",
    "hyde_query = PreRetrievalService.hype(query)\n",
    "res = RetrievalService.semantic_search(\n",
    "    hyde_query, faiss_wrapper, top_k=2\n",
    ")\n",
    "retrieval_chunks.update(res)\n",
    "\n",
    "prompts = CN_RAG_PROMPTS.format(question=query, contexts=retrieval_chunks)\n",
    "llm = LLM()\n",
    "res = llm.get_response(prompts)\n",
    "print(res)"
   ],
   "outputs": [
    {
     "name": "stdout",
     "output_type": "stream",
     "text": [
      "base_url:  https://aihubmix.com/v1\n",
      "小明喜欢打篮球。\n"
     ]
    }
   ],
   "execution_count": 1
  },
  {
   "metadata": {},
   "cell_type": "code",
   "source": "",
   "id": "e0892847cf01aae6",
   "outputs": [],
   "execution_count": null
  }
 ],
 "metadata": {
  "kernelspec": {
   "display_name": "Python 3",
   "language": "python",
   "name": "python3"
  },
  "language_info": {
   "codemirror_mode": {
    "name": "ipython",
    "version": 2
   },
   "file_extension": ".py",
   "mimetype": "text/x-python",
   "name": "python",
   "nbconvert_exporter": "python",
   "pygments_lexer": "ipython2",
   "version": "2.7.6"
  }
 },
 "nbformat": 4,
 "nbformat_minor": 5
}
